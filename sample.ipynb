{
 "cells": [
  {
   "cell_type": "markdown",
   "id": "2200dc2a-d9e1-4233-aaf6-19eea4f8e399",
   "metadata": {},
   "source": [
    "im learning deep learning using fastai library"
   ]
  }
 ],
 "metadata": {
  "kernelspec": {
   "display_name": "Python 3 (ipykernel)",
   "language": "python",
   "name": "python3"
  },
  "language_info": {
   "codemirror_mode": {
    "name": "ipython",
    "version": 3
   },
   "file_extension": ".py",
   "mimetype": "text/x-python",
   "name": "python",
   "nbconvert_exporter": "python",
   "pygments_lexer": "ipython3",
   "version": "3.9.13"
  }
 },
 "nbformat": 4,
 "nbformat_minor": 5
}
