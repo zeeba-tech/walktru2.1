{
 "cells": [
  {
   "cell_type": "code",
   "execution_count": null,
   "id": "c0f97c37-621f-4508-9f6f-7b450ee95f7e",
   "metadata": {},
   "outputs": [],
   "source": [
    "riza"
   ]
  }
 ],
 "metadata": {
  "kernelspec": {
   "display_name": "Python 3 (ipykernel)",
   "language": "python",
   "name": "python3"
  },
  "language_info": {
   "codemirror_mode": {
    "name": "ipython",
    "version": 3
   },
   "file_extension": ".py",
   "mimetype": "text/x-python",
   "name": "python",
   "nbconvert_exporter": "python",
   "pygments_lexer": "ipython3",
   "version": "3.9.13"
  }
 },
 "nbformat": 4,
 "nbformat_minor": 5
}
